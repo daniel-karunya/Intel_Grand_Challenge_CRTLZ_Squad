{
 "cells": [
  {
   "cell_type": "markdown",
   "id": "57e51165-e4b3-4a46-9cc4-47b7215b1bda",
   "metadata": {},
   "source": []
  },
  {
   "cell_type": "markdown",
   "id": "8e5e8de1-fb72-4731-b528-f1ef9049b7f5",
   "metadata": {},
   "source": [
    "Importing Required Libraries in python "
   ]
  },
  {
   "cell_type": "code",
   "execution_count": 1,
   "id": "6eba193d-1746-44b8-9abb-33c5bf65967f",
   "metadata": {},
   "outputs": [],
   "source": [
    "import pandas as pd\n",
    "import numpy as np"
   ]
  },
  {
   "cell_type": "code",
   "execution_count": 2,
   "id": "accfe38a-9047-4520-b5f7-42db6e921397",
   "metadata": {},
   "outputs": [],
   "source": [
    "lane_dep_warn = pd.read_csv(\"cas_ldw.csv\")\n",
    "forw_coll_warn = pd.read_csv(\"cas_fcw.csv\")\n",
    "pedes_coll_warn = pd.read_csv(\"cas_pcw.csv\")\n",
    "head_motr_warn = pd.read_csv(\"cas_hmw.csv\")"
   ]
  },
  {
   "cell_type": "markdown",
   "id": "1e268d67-b1d5-4966-bab4-0e56e414ef7e",
   "metadata": {},
   "source": [
    "Part 1 : Analyzing each Alert with the Wearther Data"
   ]
  },
  {
   "cell_type": "code",
   "execution_count": 3,
   "id": "edf10565-1ae8-47f7-8c5d-bd9cd4a77da6",
   "metadata": {},
   "outputs": [
    {
     "data": {
      "text/html": [
       "<div>\n",
       "<style scoped>\n",
       "    .dataframe tbody tr th:only-of-type {\n",
       "        vertical-align: middle;\n",
       "    }\n",
       "\n",
       "    .dataframe tbody tr th {\n",
       "        vertical-align: top;\n",
       "    }\n",
       "\n",
       "    .dataframe thead th {\n",
       "        text-align: right;\n",
       "    }\n",
       "</style>\n",
       "<table border=\"1\" class=\"dataframe\">\n",
       "  <thead>\n",
       "    <tr style=\"text-align: right;\">\n",
       "      <th></th>\n",
       "      <th>Count</th>\n",
       "      <th>T</th>\n",
       "      <th>DP</th>\n",
       "      <th>T-DP</th>\n",
       "      <th>H</th>\n",
       "      <th>WS</th>\n",
       "    </tr>\n",
       "  </thead>\n",
       "  <tbody>\n",
       "    <tr>\n",
       "      <th>Count</th>\n",
       "      <td>1.0</td>\n",
       "      <td>0.064756</td>\n",
       "      <td>0.00751</td>\n",
       "      <td>0.047396</td>\n",
       "      <td>-0.048875</td>\n",
       "      <td>0.090514</td>\n",
       "    </tr>\n",
       "  </tbody>\n",
       "</table>\n",
       "</div>"
      ],
      "text/plain": [
       "       Count         T       DP      T-DP         H        WS\n",
       "Count    1.0  0.064756  0.00751  0.047396 -0.048875  0.090514"
      ]
     },
     "execution_count": 3,
     "metadata": {},
     "output_type": "execute_result"
    }
   ],
   "source": [
    "lane_dep_warn.iloc[:,3:].corr(method = \"pearson\",numeric_only = True)[0:1]"
   ]
  },
  {
   "cell_type": "code",
   "execution_count": 4,
   "id": "d192f2a1-9f09-4c63-bbfc-cb806694e9f1",
   "metadata": {},
   "outputs": [
    {
     "data": {
      "text/html": [
       "<div>\n",
       "<style scoped>\n",
       "    .dataframe tbody tr th:only-of-type {\n",
       "        vertical-align: middle;\n",
       "    }\n",
       "\n",
       "    .dataframe tbody tr th {\n",
       "        vertical-align: top;\n",
       "    }\n",
       "\n",
       "    .dataframe thead th {\n",
       "        text-align: right;\n",
       "    }\n",
       "</style>\n",
       "<table border=\"1\" class=\"dataframe\">\n",
       "  <thead>\n",
       "    <tr style=\"text-align: right;\">\n",
       "      <th></th>\n",
       "      <th>Count</th>\n",
       "      <th>T</th>\n",
       "      <th>DP</th>\n",
       "      <th>T-DP</th>\n",
       "      <th>H</th>\n",
       "      <th>WS</th>\n",
       "    </tr>\n",
       "  </thead>\n",
       "  <tbody>\n",
       "    <tr>\n",
       "      <th>Count</th>\n",
       "      <td>1.0</td>\n",
       "      <td>0.066059</td>\n",
       "      <td>0.032729</td>\n",
       "      <td>0.03414</td>\n",
       "      <td>-0.050141</td>\n",
       "      <td>0.061911</td>\n",
       "    </tr>\n",
       "  </tbody>\n",
       "</table>\n",
       "</div>"
      ],
      "text/plain": [
       "       Count         T        DP     T-DP         H        WS\n",
       "Count    1.0  0.066059  0.032729  0.03414 -0.050141  0.061911"
      ]
     },
     "execution_count": 4,
     "metadata": {},
     "output_type": "execute_result"
    }
   ],
   "source": [
    "forw_coll_warn.iloc[:,3:].corr(method = \"pearson\",numeric_only = True)[0:1]"
   ]
  },
  {
   "cell_type": "code",
   "execution_count": 5,
   "id": "2d5a3045-e03a-42d2-b759-19f8d9697424",
   "metadata": {},
   "outputs": [
    {
     "data": {
      "text/html": [
       "<div>\n",
       "<style scoped>\n",
       "    .dataframe tbody tr th:only-of-type {\n",
       "        vertical-align: middle;\n",
       "    }\n",
       "\n",
       "    .dataframe tbody tr th {\n",
       "        vertical-align: top;\n",
       "    }\n",
       "\n",
       "    .dataframe thead th {\n",
       "        text-align: right;\n",
       "    }\n",
       "</style>\n",
       "<table border=\"1\" class=\"dataframe\">\n",
       "  <thead>\n",
       "    <tr style=\"text-align: right;\">\n",
       "      <th></th>\n",
       "      <th>Count</th>\n",
       "      <th>T</th>\n",
       "      <th>DP</th>\n",
       "      <th>T-DP</th>\n",
       "      <th>H</th>\n",
       "      <th>WS</th>\n",
       "    </tr>\n",
       "  </thead>\n",
       "  <tbody>\n",
       "    <tr>\n",
       "      <th>Count</th>\n",
       "      <td>1.0</td>\n",
       "      <td>-0.145038</td>\n",
       "      <td>-0.0567</td>\n",
       "      <td>-0.085789</td>\n",
       "      <td>0.08339</td>\n",
       "      <td>-0.037</td>\n",
       "    </tr>\n",
       "  </tbody>\n",
       "</table>\n",
       "</div>"
      ],
      "text/plain": [
       "       Count         T      DP      T-DP        H     WS\n",
       "Count    1.0 -0.145038 -0.0567 -0.085789  0.08339 -0.037"
      ]
     },
     "execution_count": 5,
     "metadata": {},
     "output_type": "execute_result"
    }
   ],
   "source": [
    "pedes_coll_warn.iloc[:,3:].corr(method = \"pearson\",numeric_only = True)[0:1]"
   ]
  },
  {
   "cell_type": "code",
   "execution_count": 6,
   "id": "0d42abcc-1cfc-45fa-aed6-11f61c7a05b2",
   "metadata": {},
   "outputs": [
    {
     "data": {
      "text/html": [
       "<div>\n",
       "<style scoped>\n",
       "    .dataframe tbody tr th:only-of-type {\n",
       "        vertical-align: middle;\n",
       "    }\n",
       "\n",
       "    .dataframe tbody tr th {\n",
       "        vertical-align: top;\n",
       "    }\n",
       "\n",
       "    .dataframe thead th {\n",
       "        text-align: right;\n",
       "    }\n",
       "</style>\n",
       "<table border=\"1\" class=\"dataframe\">\n",
       "  <thead>\n",
       "    <tr style=\"text-align: right;\">\n",
       "      <th></th>\n",
       "      <th>Count</th>\n",
       "      <th>T</th>\n",
       "      <th>DP</th>\n",
       "      <th>T-DP</th>\n",
       "      <th>H</th>\n",
       "      <th>WS</th>\n",
       "    </tr>\n",
       "  </thead>\n",
       "  <tbody>\n",
       "    <tr>\n",
       "      <th>Count</th>\n",
       "      <td>1.0</td>\n",
       "      <td>-0.034771</td>\n",
       "      <td>-0.022</td>\n",
       "      <td>-0.016919</td>\n",
       "      <td>0.011579</td>\n",
       "      <td>0.088159</td>\n",
       "    </tr>\n",
       "  </tbody>\n",
       "</table>\n",
       "</div>"
      ],
      "text/plain": [
       "       Count         T     DP      T-DP         H        WS\n",
       "Count    1.0 -0.034771 -0.022 -0.016919  0.011579  0.088159"
      ]
     },
     "execution_count": 6,
     "metadata": {},
     "output_type": "execute_result"
    }
   ],
   "source": [
    "head_motr_warn.iloc[:,3:].corr(method = \"pearson\",numeric_only = True)[0:1]"
   ]
  },
  {
   "cell_type": "markdown",
   "id": "56e89a73-64a3-459e-a3b4-bfc6d6f8b30a",
   "metadata": {},
   "source": [
    "Here we can see clearly thatt the weather data plays no effect on any of the different alerts"
   ]
  },
  {
   "cell_type": "markdown",
   "id": "ff751983-7fd6-4fda-b355-4e95c39f7613",
   "metadata": {},
   "source": [
    "Part - 2 : Analyzing the average speed of each alert"
   ]
  },
  {
   "cell_type": "code",
   "execution_count": 7,
   "id": "f0e0ae77-39ba-479e-9688-a5574059bf2b",
   "metadata": {},
   "outputs": [
    {
     "data": {
      "text/html": [
       "<div>\n",
       "<style scoped>\n",
       "    .dataframe tbody tr th:only-of-type {\n",
       "        vertical-align: middle;\n",
       "    }\n",
       "\n",
       "    .dataframe tbody tr th {\n",
       "        vertical-align: top;\n",
       "    }\n",
       "\n",
       "    .dataframe thead th {\n",
       "        text-align: right;\n",
       "    }\n",
       "</style>\n",
       "<table border=\"1\" class=\"dataframe\">\n",
       "  <thead>\n",
       "    <tr style=\"text-align: right;\">\n",
       "      <th></th>\n",
       "      <th>Alert_ID</th>\n",
       "      <th>Alert</th>\n",
       "      <th>Date</th>\n",
       "      <th>Time</th>\n",
       "      <th>Lat</th>\n",
       "      <th>Long</th>\n",
       "      <th>Vehicle</th>\n",
       "      <th>Speed</th>\n",
       "    </tr>\n",
       "  </thead>\n",
       "  <tbody>\n",
       "    <tr>\n",
       "      <th>0</th>\n",
       "      <td>100001</td>\n",
       "      <td>cas_ldw</td>\n",
       "      <td>01/06/2022</td>\n",
       "      <td>06:05:10</td>\n",
       "      <td>12.878990</td>\n",
       "      <td>80.080324</td>\n",
       "      <td>805</td>\n",
       "      <td>13</td>\n",
       "    </tr>\n",
       "    <tr>\n",
       "      <th>1</th>\n",
       "      <td>100002</td>\n",
       "      <td>cas_ldw</td>\n",
       "      <td>01/06/2022</td>\n",
       "      <td>06:06:41</td>\n",
       "      <td>12.873922</td>\n",
       "      <td>80.078184</td>\n",
       "      <td>805</td>\n",
       "      <td>59</td>\n",
       "    </tr>\n",
       "    <tr>\n",
       "      <th>2</th>\n",
       "      <td>100003</td>\n",
       "      <td>cas_ldw</td>\n",
       "      <td>01/06/2022</td>\n",
       "      <td>06:07:12</td>\n",
       "      <td>12.867110</td>\n",
       "      <td>80.075508</td>\n",
       "      <td>805</td>\n",
       "      <td>58</td>\n",
       "    </tr>\n",
       "    <tr>\n",
       "      <th>3</th>\n",
       "      <td>100004</td>\n",
       "      <td>cas_ldw</td>\n",
       "      <td>01/06/2022</td>\n",
       "      <td>06:07:50</td>\n",
       "      <td>12.855921</td>\n",
       "      <td>80.069229</td>\n",
       "      <td>805</td>\n",
       "      <td>58</td>\n",
       "    </tr>\n",
       "    <tr>\n",
       "      <th>4</th>\n",
       "      <td>100005</td>\n",
       "      <td>cas_ldw</td>\n",
       "      <td>01/06/2022</td>\n",
       "      <td>06:08:17</td>\n",
       "      <td>12.852359</td>\n",
       "      <td>80.066607</td>\n",
       "      <td>805</td>\n",
       "      <td>58</td>\n",
       "    </tr>\n",
       "  </tbody>\n",
       "</table>\n",
       "</div>"
      ],
      "text/plain": [
       "   Alert_ID    Alert        Date      Time        Lat       Long  Vehicle  \\\n",
       "0    100001  cas_ldw  01/06/2022  06:05:10  12.878990  80.080324      805   \n",
       "1    100002  cas_ldw  01/06/2022  06:06:41  12.873922  80.078184      805   \n",
       "2    100003  cas_ldw  01/06/2022  06:07:12  12.867110  80.075508      805   \n",
       "3    100004  cas_ldw  01/06/2022  06:07:50  12.855921  80.069229      805   \n",
       "4    100005  cas_ldw  01/06/2022  06:08:17  12.852359  80.066607      805   \n",
       "\n",
       "   Speed  \n",
       "0     13  \n",
       "1     59  \n",
       "2     58  \n",
       "3     58  \n",
       "4     58  "
      ]
     },
     "execution_count": 7,
     "metadata": {},
     "output_type": "execute_result"
    }
   ],
   "source": [
    "data = pd.read_csv(\"unnati_phase1_data_revised.csv\")\n",
    "data.head()"
   ]
  },
  {
   "cell_type": "code",
   "execution_count": 8,
   "id": "9f856af4-17a5-4332-a34d-467716d82fb8",
   "metadata": {},
   "outputs": [
    {
     "data": {
      "text/html": [
       "<div>\n",
       "<style scoped>\n",
       "    .dataframe tbody tr th:only-of-type {\n",
       "        vertical-align: middle;\n",
       "    }\n",
       "\n",
       "    .dataframe tbody tr th {\n",
       "        vertical-align: top;\n",
       "    }\n",
       "\n",
       "    .dataframe thead th {\n",
       "        text-align: right;\n",
       "    }\n",
       "</style>\n",
       "<table border=\"1\" class=\"dataframe\">\n",
       "  <thead>\n",
       "    <tr style=\"text-align: right;\">\n",
       "      <th></th>\n",
       "      <th>Speed</th>\n",
       "    </tr>\n",
       "    <tr>\n",
       "      <th>Alert</th>\n",
       "      <th></th>\n",
       "    </tr>\n",
       "  </thead>\n",
       "  <tbody>\n",
       "    <tr>\n",
       "      <th>cas_fcw</th>\n",
       "      <td>36.366102</td>\n",
       "    </tr>\n",
       "    <tr>\n",
       "      <th>cas_hmw</th>\n",
       "      <td>35.316596</td>\n",
       "    </tr>\n",
       "    <tr>\n",
       "      <th>cas_ldw</th>\n",
       "      <td>50.923496</td>\n",
       "    </tr>\n",
       "    <tr>\n",
       "      <th>cas_pcw</th>\n",
       "      <td>17.527328</td>\n",
       "    </tr>\n",
       "  </tbody>\n",
       "</table>\n",
       "</div>"
      ],
      "text/plain": [
       "             Speed\n",
       "Alert             \n",
       "cas_fcw  36.366102\n",
       "cas_hmw  35.316596\n",
       "cas_ldw  50.923496\n",
       "cas_pcw  17.527328"
      ]
     },
     "execution_count": 8,
     "metadata": {},
     "output_type": "execute_result"
    }
   ],
   "source": [
    "speed = data[['Alert','Speed']].groupby(['Alert']).mean([\"Speed\"])\n",
    "speed.head()"
   ]
  },
  {
   "cell_type": "code",
   "execution_count": 9,
   "id": "141ec089-b6d2-4490-9dc4-29f66b901570",
   "metadata": {},
   "outputs": [
    {
     "name": "stdout",
     "output_type": "stream",
     "text": [
      "                 count  mean_speed\n",
      "Vehicle Alert                     \n",
      "805     cas_fcw    158   33.879747\n",
      "        cas_hmw   4227   34.408091\n",
      "        cas_ldw   2052   49.559454\n",
      "        cas_pcw    438   17.812785\n",
      "1995    cas_fcw      1    0.000000\n",
      "        cas_hmw      8   14.500000\n",
      "        cas_ldw      8   42.625000\n",
      "        cas_pcw      1    0.000000\n",
      "2846    cas_fcw    145   39.613793\n",
      "        cas_hmw   2409   37.578248\n",
      "        cas_ldw   2741   51.639183\n",
      "        cas_pcw    391   18.636829\n",
      "3143    cas_fcw     82   33.634146\n",
      "        cas_hmw   1567   34.671347\n",
      "        cas_ldw    876   51.350457\n",
      "        cas_pcw    379   18.918206\n",
      "5339    cas_fcw    204   37.259804\n",
      "        cas_hmw   4117   35.212048\n",
      "        cas_ldw    754   51.625995\n",
      "        cas_pcw    767   16.134289\n"
     ]
    }
   ],
   "source": [
    "alert_type =  data[['Vehicle','Date','Alert','Speed']].groupby(['Vehicle','Alert']).agg(count=('Alert','size'), mean_speed = ('Speed','mean'))\n",
    "print(alert_type)"
   ]
  },
  {
   "cell_type": "markdown",
   "id": "2b4a44a1-7b29-457c-a6fc-5f50e451b515",
   "metadata": {},
   "source": [
    "Here We can see that across vehicles the data for average speed are similar"
   ]
  },
  {
   "cell_type": "markdown",
   "id": "498eb915-4758-424a-ba6d-f8030c51b547",
   "metadata": {},
   "source": [
    "Part - 3 : Filtering Hospitals close to the accident zones and also on their ability to handle emergencies"
   ]
  },
  {
   "cell_type": "code",
   "execution_count": 10,
   "id": "3d5b77c9-6d16-4fc7-a487-a21426055e0b",
   "metadata": {},
   "outputs": [
    {
     "name": "stdout",
     "output_type": "stream",
     "text": [
      "                X          Y  objectid health_facility_name  \\\n",
      "0       78.564177  12.492635         1     THIRUPATHUR UPHC   \n",
      "1       78.535451  12.266359         2           UTHANGARAI   \n",
      "2       78.511082  11.045766         3             JAYANTHI   \n",
      "3       78.559638  11.193647         4              KUMARAN   \n",
      "4       78.526689  11.439301         5         Sendarapatti   \n",
      "...           ...        ...       ...                  ...   \n",
      "165106  76.465500  23.202200    165107          SHC Chakrod   \n",
      "165107  78.916286  23.120122    165108            PHC Dobhi   \n",
      "165108  79.905277  23.202764    165109          SHC Karmeta   \n",
      "165109  80.002659  23.120099    165110           SHC Umaria   \n",
      "165110  76.903801  23.120802    165111           PHC Amlaha   \n",
      "\n",
      "                                address                      street  \\\n",
      "0                    1 THIRUPATHUR UPHC  Chairman Laxshmanan Street   \n",
      "1       Government Hospital, Uthangarai                  Uthangarai   \n",
      "2                              NO. 16/4                GANTHI NAGAR   \n",
      "3         NO. 120, TRICHY ROAD,TURAIYUR        TRICHY ROAD,TURAIYUR   \n",
      "4                     HEALTH SUB CENTRE                   AD STREET   \n",
      "...                                 ...                         ...   \n",
      "165106                              NaN              kalapipal Road   \n",
      "165107                              PHC                         NaN   \n",
      "165108                          KARMETA                     KARMETA   \n",
      "165109                              NIL          Umaria kudari road   \n",
      "165110                       PHC Amlaha                  PHC Amlaha   \n",
      "\n",
      "                                                 landmark  \\\n",
      "0       Tirupattur Municipal Office, Opp. DDHS tirupattur   \n",
      "1                                           Near Roundana   \n",
      "2                                   THRAIYUR ROAD, MUSIRI   \n",
      "3                                                TURAIYUR   \n",
      "4                                   PANCHAYAT OFFICE NEAR   \n",
      "...                                                   ...   \n",
      "165106                             Near Govt. high School   \n",
      "165107                                      Village Dobhi   \n",
      "165108                                            KARMETA   \n",
      "165109                                    Hanumaan Mandir   \n",
      "165110                          Panchayat, School ke pass   \n",
      "\n",
      "                                   locality  posatalcode  \\\n",
      "0                          Govt.Gardan Road     635601.0   \n",
      "1                                Uthangarai     635207.0   \n",
      "2                     THRAIYUR ROAD, MUSIRI     621211.0   \n",
      "3                                  TURAIYUR     621010.0   \n",
      "4                              SENDARAPATTY     636110.0   \n",
      "...                                     ...          ...   \n",
      "165106                              Chakrod     465333.0   \n",
      "165107  Tahsil Tendukheda Distt Narsinghpur     487337.0   \n",
      "165108                              KARMETA     482001.0   \n",
      "165109                                Rural     483001.0   \n",
      "165110                           PHC Amlaha     466115.0   \n",
      "\n",
      "                       landline_number          facility_type      state_name  \\\n",
      "0                                  NaN  Primary Health Centre      Tamil Nadu   \n",
      "1                         04341-222043  Sub-District Hospital      Tamil Nadu   \n",
      "2                        04326 -260423                 Others      Tamil Nadu   \n",
      "3       +(91)-4327-2222343,???ÿ2222313                 Others      Tamil Nadu   \n",
      "4                                  NaN              SubCentre      Tamil Nadu   \n",
      "...                                ...                    ...             ...   \n",
      "165106                             NaN              SubCentre  Madhya Pradesh   \n",
      "165107                             NaN  Primary Health Centre  Madhya Pradesh   \n",
      "165108                      9479883739              SubCentre  Madhya Pradesh   \n",
      "165109                             NaN              SubCentre  Madhya Pradesh   \n",
      "165110                      7562265465  Primary Health Centre  Madhya Pradesh   \n",
      "\n",
      "          district_name taluka_name             block_name        lat  \\\n",
      "0               Vellore  Tirupathur        Tirupattur MPTY  12.492635   \n",
      "1           Krishnagiri  Uthangarai             Uthangarai  12.266359   \n",
      "2       Tiruchirappalli      Musiri                 Musiri  11.045766   \n",
      "3       Tiruchirappalli   Thuraiyur         Thuraiyur MPTY  11.193647   \n",
      "4                 Salem  Gangavalli             Gangavalli  11.439301   \n",
      "...                 ...         ...                    ...        ...   \n",
      "165106         Shajapur   Shujalpur  Shujalpur(Polaykalan)  23.202200   \n",
      "165107      Narsinghpur  Tendukheda            Chawarpatha  23.120122   \n",
      "165108         Jabalpur     Panagar                Panagar  23.202764   \n",
      "165109         Jabalpur    Jabalpur               Jabalpur  23.120099   \n",
      "165110           Sehore    Ichhawar               Ichhawar  23.120802   \n",
      "\n",
      "              lon  altitude  \n",
      "0       78.564177  382.6100  \n",
      "1       78.535451  343.4900  \n",
      "2       78.511082  123.5000  \n",
      "3       78.559638  154.3000  \n",
      "4       78.526689  284.5306  \n",
      "...           ...       ...  \n",
      "165106  76.465500    0.0000  \n",
      "165107  78.916286    0.0000  \n",
      "165108  79.905277    0.0000  \n",
      "165109  80.002659    0.0000  \n",
      "165110  76.903801  680.0000  \n",
      "\n",
      "[165111 rows x 18 columns]\n"
     ]
    }
   ],
   "source": [
    "hospitals = pd.read_csv(\"hosp_directory.csv\")\n",
    "print(hospitals)"
   ]
  },
  {
   "cell_type": "code",
   "execution_count": 11,
   "id": "c89d831d-c8b7-4236-9621-c5a0b99b0215",
   "metadata": {},
   "outputs": [
    {
     "name": "stdout",
     "output_type": "stream",
     "text": [
      "               X          Y  objectid health_facility_name  \\\n",
      "19231  80.233987  13.070108   19232.0          KILPAUK UHP   \n",
      "19233  80.275224  13.029925   19234.0         SANTHOME UHP   \n",
      "19234  80.259610  13.017820   19235.0      NEHRU NAGAR UHP   \n",
      "19235  80.245294  13.075499   19236.0     MANGALAPURAM UHP   \n",
      "19236  80.246436  13.002852   19237.0              VHS UHP   \n",
      "...          ...        ...       ...                  ...   \n",
      "47451  80.222121  13.055125   47452.0       VADAPALANI UHP   \n",
      "47452  80.200147  13.100923   47453.0  VILLIWAKKAM  II UHP   \n",
      "47456  80.214888  13.028199   47457.0         SAIDAPET UHP   \n",
      "47459  80.204801  13.029936   47460.0    SAIDAPET WEST UHP   \n",
      "47633  79.780134  13.131521   47634.0       Thiruvelangadu   \n",
      "\n",
      "                            address                               street  \\\n",
      "19231                             1                        Temple Street   \n",
      "19233                           14A   APPU 2nd LANE,Mylapore,Chennai-04.   \n",
      "19234                            17                  sathyamoorthy nagar   \n",
      "19235                         U.F.W               8th Street,Magalapuram   \n",
      "19236  VHS multispeciality Hospital                   Rajiv Gandhi Salai   \n",
      "...                             ...                                  ...   \n",
      "47451                             1                   Corporation colony   \n",
      "47452                            36          Rajamangalam 1st Main Road.   \n",
      "47456                            51                           Jones Road   \n",
      "47459                             1  2nd Link Street,Raghava redy colony   \n",
      "47633         Primary Health Centre                           Main Raod,   \n",
      "\n",
      "                                                landmark  \\\n",
      "19231                                      Perumal Kovil   \n",
      "19233                                       Santhome IOB   \n",
      "19234                      near sathyamoorthy nagar Park   \n",
      "19235                                      Amma Unavagam   \n",
      "19236                               Madhyakailesh Temple   \n",
      "...                                                  ...   \n",
      "47451                           Vadapalani Eoc back side   \n",
      "47452                                  Nathamuni theatre   \n",
      "47456                                    Panagal Maligai   \n",
      "47459  Saidapet Manthoopu School Near Thiruvalluvar S...   \n",
      "47633                                    NEAR BDO OFFICE   \n",
      "\n",
      "                    locality  posatalcode landline_number  \\\n",
      "19231  New Avadi Road Kipauk     600010.0        26600105   \n",
      "19233               Mylapore     600004.0        24640230   \n",
      "19234             vyasarpadi     600039.0        26731855   \n",
      "19235                Chetpet     600031.0        28362021   \n",
      "19236              Tharamani     600113.0        22542971   \n",
      "...                      ...          ...             ...   \n",
      "47451            Kodambakkam     600024.0        24830550   \n",
      "47452            Villivakkam     600049.0        26181020   \n",
      "47456               Saidapet     600015.0        24810279   \n",
      "47459          Jafferkhanpet     600083.0        23712618   \n",
      "47633         THIRUVELANGADU     631210.0    044-27872152   \n",
      "\n",
      "               facility_type  state_name district_name taluka_name  \\\n",
      "19231  Primary Health Centre  Tamil Nadu       Chennai          \\N   \n",
      "19233  Primary Health Centre  Tamil Nadu       Chennai          \\N   \n",
      "19234  Primary Health Centre  Tamil Nadu       Chennai          \\N   \n",
      "19235  Primary Health Centre  Tamil Nadu       Chennai          \\N   \n",
      "19236  Primary Health Centre  Tamil Nadu       Chennai          \\N   \n",
      "...                      ...         ...           ...         ...   \n",
      "47451  Primary Health Centre  Tamil Nadu       Chennai          \\N   \n",
      "47452  Primary Health Centre  Tamil Nadu       Chennai          \\N   \n",
      "47456  Primary Health Centre  Tamil Nadu       Chennai          \\N   \n",
      "47459  Primary Health Centre  Tamil Nadu       Chennai          \\N   \n",
      "47633  Primary Health Centre  Tamil Nadu   Thiruvallur   Tiruttani   \n",
      "\n",
      "              block_name        lat        lon  altitude  \n",
      "19231  CHENNAI ZONE VIII  13.070108  80.233987    11.310  \n",
      "19233    CHENNAI ZONE IX  13.029925  80.275224     9.210  \n",
      "19234    CHENNAI ZONE IV  13.017820  80.259610     8.540  \n",
      "19235  CHENNAI ZONE VIII  13.075499  80.245294    10.080  \n",
      "19236  CHENNAI ZONE XIII  13.002852  80.246436     6.570  \n",
      "...                  ...        ...        ...       ...  \n",
      "47451     CHENNAI ZONE X  13.055125  80.222121    14.100  \n",
      "47452  CHENNAI ZONE VIII  13.100923  80.200147    12.160  \n",
      "47456     CHENNAI ZONE X  13.028199  80.214888    12.580  \n",
      "47459     CHENNAI ZONE X  13.029936  80.204801    13.480  \n",
      "47633     Thiruvelangadu  13.131521  79.780134    59.481  \n",
      "\n",
      "[106 rows x 18 columns]\n"
     ]
    }
   ],
   "source": [
    "filter = hospitals['state_name'] == \"Tamil Nadu\"\n",
    "filter1= hospitals['lat'] >=12.34\n",
    "filter2= hospitals['lat'] <=13.19\n",
    "filter3= hospitals['lon'] <=80.32\n",
    "filter4= hospitals['lon'] >=79.78\n",
    "filter5= hospitals['facility_type']  == 'Primary Health Centre'\n",
    "filter6= hospitals['facility_type']  == 'District Hospital'\n",
    "filter7= hospitals['facility_type']  == 'Sub-District Hospital'\n",
    "hospitals_tamilnadu = hospitals.where(filter & filter1 & filter2 & filter3 & filter4).dropna()\n",
    "hospitals_tamilnadu = hospitals_tamilnadu.where(filter5 | filter6 | filter7).dropna()\n",
    "print(hospitals_tamilnadu)"
   ]
  },
  {
   "cell_type": "markdown",
   "id": "432ae56a-be84-4dce-8e9f-84cbc16b7072",
   "metadata": {},
   "source": [
    "We have now got a list of 106 hospitals to work with in QGIS instead of 1,65,111"
   ]
  }
 ],
 "metadata": {
  "kernelspec": {
   "display_name": "Python 3 (ipykernel)",
   "language": "python",
   "name": "python3"
  },
  "language_info": {
   "codemirror_mode": {
    "name": "ipython",
    "version": 3
   },
   "file_extension": ".py",
   "mimetype": "text/x-python",
   "name": "python",
   "nbconvert_exporter": "python",
   "pygments_lexer": "ipython3",
   "version": "3.11.1"
  }
 },
 "nbformat": 4,
 "nbformat_minor": 5
}
